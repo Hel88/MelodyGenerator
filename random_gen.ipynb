{
 "cells": [
  {
   "cell_type": "markdown",
   "metadata": {},
   "source": [
    "# Génération de mélodie de façon aléatoire"
   ]
  },
  {
   "cell_type": "code",
   "execution_count": 3,
   "metadata": {},
   "outputs": [],
   "source": [
    "import music21 as m21\n",
    "import random"
   ]
  },
  {
   "cell_type": "markdown",
   "metadata": {},
   "source": [
    "### Génération aléatoire basique\n",
    "Génération de mélodies aléatoires en do majeur et en 4|4 avec seulement 7 notes et des silences."
   ]
  },
  {
   "cell_type": "code",
   "execution_count": null,
   "metadata": {},
   "outputs": [],
   "source": [
    "NOTE_DURATIONS = [\n",
    "    0.25,\n",
    "    0.5,\n",
    "    0.75,\n",
    "    1,\n",
    "    1.5,\n",
    "    2,\n",
    "    3,\n",
    "    4\n",
    "]\n",
    "\n",
    "NOTES = ['C','D','E','F','G','A','B']"
   ]
  },
  {
   "cell_type": "code",
   "execution_count": 16,
   "metadata": {},
   "outputs": [],
   "source": [
    "from music21 import note, stream\n",
    "\n",
    "# Générer une mélodie d'une durée spécifiée\n",
    "def generate_random_melody(total_duration=16, silence_probability=0.2):\n",
    "    melody = stream.Stream()\n",
    "    current_duration = 0  # Temps total actuel\n",
    "    \n",
    "    while current_duration < total_duration:\n",
    "        duration = random.choice(NOTE_DURATIONS)  # Choix d'une durée aléatoire\n",
    "\n",
    "        # Empêcher de dépasser la durée totale\n",
    "        if current_duration + duration > total_duration:\n",
    "            duration = total_duration - current_duration  # Ajuste pour finir pile\n",
    "\n",
    "        if random.random() < silence_probability:  # Probabilité d'ajouter un silence\n",
    "            element = note.Rest(quarterLength=duration)  # Créer un silence\n",
    "        else:\n",
    "            pitch = random.choice(NOTES)  # Note aléatoire\n",
    "            element = note.Note(pitch, quarterLength=duration)  # Créer une note\n",
    "        \n",
    "        melody.append(element)  # Ajouter à la mélodie\n",
    "        current_duration += duration  # Mettre à jour la durée actuelle\n",
    "    \n",
    "    return melody\n"
   ]
  },
  {
   "cell_type": "code",
   "execution_count": 17,
   "metadata": {},
   "outputs": [
    {
     "data": {
      "image/png": "[encoded data removed]",
      "text/plain": [
       "<IPython.core.display.Image object>"
      ]
     },
     "metadata": {
      "image/png": {
       "height": 50,
       "width": 748
      }
     },
     "output_type": "display_data"
    }
   ],
   "source": [
    "melody = generate_random_melody()\n",
    "melody.show()"
   ]
  },
  {
   "cell_type": "code",
   "execution_count": 18,
   "metadata": {},
   "outputs": [
    {
     "data": {
      "text/html": [
       "\n",
       "        <div id=\"midiPlayerDiv726\"></div>\n",
       "        <link rel=\"stylesheet\" href=\"https://cuthbertLab.github.io/music21j/css/m21.css\">\n",
       "        \n",
       "        <script\n",
       "        src=\"https://cdnjs.cloudflare.com/ajax/libs/require.js/2.3.6/require.min.js\"\n",
       "        ></script>\n",
       "    \n",
       "        <script>\n",
       "        function midiPlayerDiv726_play() {\n",
       "            const rq = require.config({\n",
       "                paths: {\n",
       "                    'music21': 'https://cuthbertLab.github.io/music21j/releases/music21.debug',\n",
       "                }\n",
       "            });\n",
       "            rq(['music21'], function(music21) {\n",
       "                mp = new music21.miditools.MidiPlayer();\n",
       "                mp.addPlayer(\"#midiPlayerDiv726\");\n",
       "                mp.base64Load(\"data:audio/midi;base64,TVRoZAAAAAYAAQACJ2BNVHJrAAAAFAD/UQMHoSAA/1gEBAIYCM5g/y8ATVRyawAAAFEA/wMAAOAAQM5gkENagrsAgEMAAJBFWrsIgEUAAJBBWoHsIIBBAM5gkEBazmCAQAAAkDxa9hCAPAAAkEVagrsAgEUAAJBDWrsIgEMAzmD/LwA=\");\n",
       "            });\n",
       "        }\n",
       "        if (typeof require === 'undefined') {\n",
       "            setTimeout(midiPlayerDiv726_play, 2000);\n",
       "        } else {\n",
       "            midiPlayerDiv726_play();\n",
       "        }\n",
       "        </script>"
      ],
      "text/plain": [
       "<IPython.core.display.HTML object>"
      ]
     },
     "metadata": {},
     "output_type": "display_data"
    }
   ],
   "source": [
    "melody.show('midi')"
   ]
  },
  {
   "cell_type": "markdown",
   "metadata": {},
   "source": [
    "## Génération aléatoire avec un choix de notes\n",
    "\n",
    "Génération de mélodie aléatoire avec les # en plus."
   ]
  },
  {
   "cell_type": "code",
   "execution_count": 19,
   "metadata": {},
   "outputs": [],
   "source": [
    "NOTES_ALL = ['C','C#','D','D#','E','F','F#','G','G#','A','A#','B']"
   ]
  },
  {
   "cell_type": "code",
   "execution_count": 30,
   "metadata": {},
   "outputs": [],
   "source": [
    "def random_melody_with_notes(total_duration=16, silence_probability=0.1, notes=NOTES_ALL):\n",
    "    melody = stream.Stream()\n",
    "    current_duration = 0  # Temps total actuel\n",
    "    \n",
    "    while current_duration < total_duration:\n",
    "        duration = random.choice(NOTE_DURATIONS)  # Choix d'une durée aléatoire\n",
    "\n",
    "        # Empêcher de dépasser la durée totale\n",
    "        if current_duration + duration > total_duration:\n",
    "            duration = total_duration - current_duration  # Ajuste pour finir pile\n",
    "\n",
    "        if random.random() < silence_probability:  # Probabilité d'ajouter un silence\n",
    "            element = note.Rest(quarterLength=duration)  # Créer un silence\n",
    "        else:\n",
    "            pitch = random.choice(notes)  # Note aléatoire\n",
    "            element = note.Note(pitch, quarterLength=duration)  # Créer une note\n",
    "        \n",
    "        melody.append(element)  # Ajouter à la mélodie\n",
    "        current_duration += duration  # Mettre à jour la durée actuelle\n",
    "    \n",
    "    return melody\n",
    "    "
   ]
  },
  {
   "cell_type": "code",
   "execution_count": 31,
   "metadata": {},
   "outputs": [
    {
     "data": {
      "image/png": "[encoded data removed]",
      "text/plain": [
       "<IPython.core.display.Image object>"
      ]
     },
     "metadata": {
      "image/png": {
       "height": 51,
       "width": 748
      }
     },
     "output_type": "display_data"
    }
   ],
   "source": [
    "melody = random_melody_with_notes(notes=NOTES_ALL)\n",
    "melody.show()"
   ]
  },
  {
   "cell_type": "code",
   "execution_count": 32,
   "metadata": {},
   "outputs": [
    {
     "data": {
      "text/html": [
       "\n",
       "        <div id=\"midiPlayerDiv1852\"></div>\n",
       "        <link rel=\"stylesheet\" href=\"https://cuthbertLab.github.io/music21j/css/m21.css\">\n",
       "        \n",
       "        <script\n",
       "        src=\"https://cdnjs.cloudflare.com/ajax/libs/require.js/2.3.6/require.min.js\"\n",
       "        ></script>\n",
       "    \n",
       "        <script>\n",
       "        function midiPlayerDiv1852_play() {\n",
       "            const rq = require.config({\n",
       "                paths: {\n",
       "                    'music21': 'https://cuthbertLab.github.io/music21j/releases/music21.debug',\n",
       "                }\n",
       "            });\n",
       "            rq(['music21'], function(music21) {\n",
       "                mp = new music21.miditools.MidiPlayer();\n",
       "                mp.addPlayer(\"#midiPlayerDiv1852\");\n",
       "                mp.base64Load(\"data:audio/midi;base64,TVRoZAAAAAYAAQACJ2BNVHJrAAAAFAD/UQMHoSAA/1gEBAIYCM5g/y8ATVRyawAAAGMA/wMAAOAAQM5gkEdagewggEcAAJBGWvYQgEYAAJBEWrsIgEQAAJA8WpNYgDwAAJBAWoHsIIBAAACQQFqnMIBAAACQQlqB7CCAQgAAkEFa9hCAQQAAkEFagcRwgEEAzmD/LwA=\");\n",
       "            });\n",
       "        }\n",
       "        if (typeof require === 'undefined') {\n",
       "            setTimeout(midiPlayerDiv1852_play, 2000);\n",
       "        } else {\n",
       "            midiPlayerDiv1852_play();\n",
       "        }\n",
       "        </script>"
      ],
      "text/plain": [
       "<IPython.core.display.HTML object>"
      ]
     },
     "metadata": {},
     "output_type": "display_data"
    }
   ],
   "source": [
    "melody.show('midi')"
   ]
  },
  {
   "cell_type": "markdown",
   "metadata": {},
   "source": [
    "Exemple de génération de mélodies avec des accords"
   ]
  },
  {
   "cell_type": "code",
   "execution_count": 37,
   "metadata": {},
   "outputs": [
    {
     "data": {
      "image/png": "[encoded data removed]",
      "text/plain": [
       "<IPython.core.display.Image object>"
      ]
     },
     "metadata": {
      "image/png": {
       "height": 50,
       "width": 748
      }
     },
     "output_type": "display_data"
    }
   ],
   "source": [
    "# Choix de l'accord\n",
    "CHORD = ['C','E','G','Bb']\n",
    "\n",
    "# Génération \n",
    "melody = random_melody_with_notes(silence_probability=0.05,notes=CHORD)\n",
    "melody.show()"
   ]
  },
  {
   "cell_type": "code",
   "execution_count": 38,
   "metadata": {},
   "outputs": [
    {
     "data": {
      "text/html": [
       "\n",
       "        <div id=\"midiPlayerDiv2518\"></div>\n",
       "        <link rel=\"stylesheet\" href=\"https://cuthbertLab.github.io/music21j/css/m21.css\">\n",
       "        \n",
       "        <script\n",
       "        src=\"https://cdnjs.cloudflare.com/ajax/libs/require.js/2.3.6/require.min.js\"\n",
       "        ></script>\n",
       "    \n",
       "        <script>\n",
       "        function midiPlayerDiv2518_play() {\n",
       "            const rq = require.config({\n",
       "                paths: {\n",
       "                    'music21': 'https://cuthbertLab.github.io/music21j/releases/music21.debug',\n",
       "                }\n",
       "            });\n",
       "            rq(['music21'], function(music21) {\n",
       "                mp = new music21.miditools.MidiPlayer();\n",
       "                mp.addPlayer(\"#midiPlayerDiv2518\");\n",
       "                mp.base64Load(\"data:audio/midi;base64,TVRoZAAAAAYAAQACJ2BNVHJrAAAAFAD/UQMHoSAA/1gEBAIYCM5g/y8ATVRyawAAAGsA/wMAAOAAQM5gkEZauwiARgAAkENagewggEMAAJBGWs5ggEYAAJA8WqcwgDwAAJBGWvYQgEYAAJBGWpNYgEYAAJBDWqcwgEMAAJBDWoK7AIBDAACQQFqCuwCAQAAAkENapzCAQwDOYP8vAA==\");\n",
       "            });\n",
       "        }\n",
       "        if (typeof require === 'undefined') {\n",
       "            setTimeout(midiPlayerDiv2518_play, 2000);\n",
       "        } else {\n",
       "            midiPlayerDiv2518_play();\n",
       "        }\n",
       "        </script>"
      ],
      "text/plain": [
       "<IPython.core.display.HTML object>"
      ]
     },
     "metadata": {},
     "output_type": "display_data"
    }
   ],
   "source": [
    "melody.show('midi')"
   ]
  },
  {
   "cell_type": "code",
   "execution_count": null,
   "metadata": {},
   "outputs": [],
   "source": []
  }
 ],
 "metadata": {
  "kernelspec": {
   "display_name": "projet-env",
   "language": "python",
   "name": "python3"
  },
  "language_info": {
   "codemirror_mode": {
    "name": "ipython",
    "version": 3
   },
   "file_extension": ".py",
   "mimetype": "text/x-python",
   "name": "python",
   "nbconvert_exporter": "python",
   "pygments_lexer": "ipython3",
   "version": "3.12.3"
  }
 },
 "nbformat": 4,
 "nbformat_minor": 2
}
