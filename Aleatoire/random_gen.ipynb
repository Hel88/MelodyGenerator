{
 "cells": [
  {
   "cell_type": "markdown",
   "metadata": {},
   "source": [
    "# Génération de mélodie de façon aléatoire"
   ]
  },
  {
   "cell_type": "code",
   "execution_count": 1,
   "metadata": {},
   "outputs": [],
   "source": [
    "import music21 as m21\n",
    "import random"
   ]
  },
  {
   "cell_type": "markdown",
   "metadata": {},
   "source": [
    "### Génération aléatoire basique\n",
    "Génération de mélodies aléatoires en do majeur et en 4|4 avec seulement 7 notes et des silences."
   ]
  },
  {
   "cell_type": "code",
   "execution_count": 2,
   "metadata": {},
   "outputs": [],
   "source": [
    "NOTE_DURATIONS = [\n",
    "    0.25,\n",
    "    0.5,\n",
    "    0.75,\n",
    "    1,\n",
    "    1.5,\n",
    "    2,\n",
    "    3,\n",
    "    4\n",
    "]\n",
    "\n",
    "NOTES = ['C','D','E','F','G','A','B']"
   ]
  },
  {
   "cell_type": "code",
   "execution_count": 13,
   "metadata": {},
   "outputs": [],
   "source": [
    "from music21 import note, stream\n",
    "\n",
    "# Générer une mélodie d'une durée spécifiée\n",
    "def generate_random_melody(total_duration=16, silence_probability=0.2):\n",
    "    melody = stream.Stream()\n",
    "    current_duration = 0  # Temps total actuel\n",
    "    \n",
    "    while current_duration < total_duration:\n",
    "        duration = random.choice(NOTE_DURATIONS)  # Choix d'une durée aléatoire\n",
    "\n",
    "        # Empêcher de dépasser la durée totale\n",
    "        if current_duration + duration > total_duration:\n",
    "            duration = total_duration - current_duration  # Ajuste pour finir pile\n",
    "\n",
    "        if random.random() < silence_probability:  # Probabilité d'ajouter un silence\n",
    "            element = note.Rest(quarterLength=duration)  # Créer un silence\n",
    "        else:\n",
    "            pitch = random.choice(NOTES)  # Note aléatoire\n",
    "            element = note.Note(pitch, quarterLength=duration)  # Créer une note\n",
    "        \n",
    "        melody.append(element)  # Ajouter à la mélodie\n",
    "        current_duration += duration  # Mettre à jour la durée actuelle\n",
    "    \n",
    "    return melody\n"
   ]
  },
  {
   "cell_type": "code",
   "execution_count": 14,
   "metadata": {},
   "outputs": [
    {
     "data": {
      "image/png": "[encoded data removed]",
      "text/plain": [
       "<IPython.core.display.Image object>"
      ]
     },
     "metadata": {
      "image/png": {
       "height": 55,
       "width": 748
      }
     },
     "output_type": "display_data"
    }
   ],
   "source": [
    "melody = generate_random_melody()\n",
    "melody.show()"
   ]
  },
  {
   "cell_type": "code",
   "execution_count": 15,
   "metadata": {},
   "outputs": [
    {
     "data": {
      "text/html": [
       "\n",
       "        <div id=\"midiPlayerDiv888\"></div>\n",
       "        <link rel=\"stylesheet\" href=\"https://cuthbertLab.github.io/music21j/css/m21.css\">\n",
       "        \n",
       "        <script\n",
       "        src=\"https://cdnjs.cloudflare.com/ajax/libs/require.js/2.3.6/require.min.js\"\n",
       "        ></script>\n",
       "    \n",
       "        <script>\n",
       "        function midiPlayerDiv888_play() {\n",
       "            const rq = require.config({\n",
       "                paths: {\n",
       "                    'music21': 'https://cuthbertLab.github.io/music21j/releases/music21.debug',\n",
       "                }\n",
       "            });\n",
       "            rq(['music21'], function(music21) {\n",
       "                mp = new music21.miditools.MidiPlayer();\n",
       "                mp.addPlayer(\"#midiPlayerDiv888\");\n",
       "                mp.base64Load(\"data:audio/midi;base64,TVRoZAAAAAYAAQACJ2BNVHJrAAAAFAD/UQMHoSAA/1gEBAIYCM5g/y8ATVRyawAAAF0A/wMAAOAAQM5gkEdagrsAgEcA9hCQRVq7CIBFAACQRVq7CIBFALsIkDxagZ1AgDwAk1iQR1q7CIBHAACQRVqBnUCARQAAkDxagewggDwAAJBFWpNYgEUAzmD/LwA=\");\n",
       "            });\n",
       "        }\n",
       "        if (typeof require === 'undefined') {\n",
       "            setTimeout(midiPlayerDiv888_play, 2000);\n",
       "        } else {\n",
       "            midiPlayerDiv888_play();\n",
       "        }\n",
       "        </script>"
      ],
      "text/plain": [
       "<IPython.core.display.HTML object>"
      ]
     },
     "metadata": {},
     "output_type": "display_data"
    }
   ],
   "source": [
    "melody.show('midi')"
   ]
  },
  {
   "cell_type": "code",
   "execution_count": 16,
   "metadata": {},
   "outputs": [
    {
     "data": {
      "text/plain": [
       "'random.mid'"
      ]
     },
     "execution_count": 16,
     "metadata": {},
     "output_type": "execute_result"
    }
   ],
   "source": [
    "melody.write(\"midi\", \"random.mid\")"
   ]
  },
  {
   "cell_type": "markdown",
   "metadata": {},
   "source": [
    "## Génération aléatoire avec un choix de notes\n",
    "\n",
    "Génération de mélodie aléatoire avec les # en plus."
   ]
  },
  {
   "cell_type": "code",
   "execution_count": 6,
   "metadata": {},
   "outputs": [],
   "source": [
    "NOTES_ALL = ['C','C#','D','D#','E','F','F#','G','G#','A','A#','B']"
   ]
  },
  {
   "cell_type": "code",
   "execution_count": 7,
   "metadata": {},
   "outputs": [],
   "source": [
    "def random_melody_with_notes(total_duration=16, silence_probability=0.1, notes=NOTES_ALL):\n",
    "    melody = stream.Stream()\n",
    "    current_duration = 0  # Temps total actuel\n",
    "    \n",
    "    while current_duration < total_duration:\n",
    "        duration = random.choice(NOTE_DURATIONS)  # Choix d'une durée aléatoire\n",
    "\n",
    "        # Empêcher de dépasser la durée totale\n",
    "        if current_duration + duration > total_duration:\n",
    "            duration = total_duration - current_duration  # Ajuste pour finir pile\n",
    "\n",
    "        if random.random() < silence_probability:  # Probabilité d'ajouter un silence\n",
    "            element = note.Rest(quarterLength=duration)  # Créer un silence\n",
    "        else:\n",
    "            pitch = random.choice(notes)  # Note aléatoire\n",
    "            element = note.Note(pitch, quarterLength=duration)  # Créer une note\n",
    "        \n",
    "        melody.append(element)  # Ajouter à la mélodie\n",
    "        current_duration += duration  # Mettre à jour la durée actuelle\n",
    "    \n",
    "    return melody\n",
    "    "
   ]
  },
  {
   "cell_type": "code",
   "execution_count": 8,
   "metadata": {},
   "outputs": [
    {
     "data": {
      "image/png": "[encoded data removed]",
      "text/plain": [
       "<IPython.core.display.Image object>"
      ]
     },
     "metadata": {
      "image/png": {
       "height": 56,
       "width": 748
      }
     },
     "output_type": "display_data"
    }
   ],
   "source": [
    "melody = random_melody_with_notes(notes=NOTES_ALL)\n",
    "melody.show()"
   ]
  },
  {
   "cell_type": "code",
   "execution_count": 9,
   "metadata": {},
   "outputs": [
    {
     "data": {
      "text/html": [
       "\n",
       "        <div id=\"midiPlayerDiv403\"></div>\n",
       "        <link rel=\"stylesheet\" href=\"https://cuthbertLab.github.io/music21j/css/m21.css\">\n",
       "        \n",
       "        <script\n",
       "        src=\"https://cdnjs.cloudflare.com/ajax/libs/require.js/2.3.6/require.min.js\"\n",
       "        ></script>\n",
       "    \n",
       "        <script>\n",
       "        function midiPlayerDiv403_play() {\n",
       "            const rq = require.config({\n",
       "                paths: {\n",
       "                    'music21': 'https://cuthbertLab.github.io/music21j/releases/music21.debug',\n",
       "                }\n",
       "            });\n",
       "            rq(['music21'], function(music21) {\n",
       "                mp = new music21.miditools.MidiPlayer();\n",
       "                mp.addPlayer(\"#midiPlayerDiv403\");\n",
       "                mp.base64Load(\"data:audio/midi;base64,TVRoZAAAAAYAAQACJ2BNVHJrAAAAFAD/UQMHoSAA/1gEBAIYCM5g/y8ATVRyawAAAGMA/wMAAOAAQM5gkD1ak1iAPQAAkD9ak1iAPwAAkD9agewggD8AAJBAWrsIgEAAAJBAWoK7AIBAAACQR1q7CIBHAACQRFqBnUCARAAAkENagrsAgEMAAJBGWs5ggEYAzmD/LwA=\");\n",
       "            });\n",
       "        }\n",
       "        if (typeof require === 'undefined') {\n",
       "            setTimeout(midiPlayerDiv403_play, 2000);\n",
       "        } else {\n",
       "            midiPlayerDiv403_play();\n",
       "        }\n",
       "        </script>"
      ],
      "text/plain": [
       "<IPython.core.display.HTML object>"
      ]
     },
     "metadata": {},
     "output_type": "display_data"
    }
   ],
   "source": [
    "melody.show('midi')"
   ]
  },
  {
   "cell_type": "markdown",
   "metadata": {},
   "source": [
    "Exemple de génération de mélodies avec des accords"
   ]
  },
  {
   "cell_type": "code",
   "execution_count": 10,
   "metadata": {},
   "outputs": [
    {
     "data": {
      "image/png": "[encoded data removed]",
      "text/plain": [
       "<IPython.core.display.Image object>"
      ]
     },
     "metadata": {
      "image/png": {
       "height": 58,
       "width": 748
      }
     },
     "output_type": "display_data"
    }
   ],
   "source": [
    "# Choix de l'accord\n",
    "CHORD = ['C','E','G','Bb']\n",
    "\n",
    "# Génération \n",
    "melody = random_melody_with_notes(silence_probability=0.05,notes=CHORD)\n",
    "melody.show()"
   ]
  },
  {
   "cell_type": "code",
   "execution_count": 11,
   "metadata": {},
   "outputs": [
    {
     "data": {
      "text/html": [
       "\n",
       "        <div id=\"midiPlayerDiv623\"></div>\n",
       "        <link rel=\"stylesheet\" href=\"https://cuthbertLab.github.io/music21j/css/m21.css\">\n",
       "        \n",
       "        <script\n",
       "        src=\"https://cdnjs.cloudflare.com/ajax/libs/require.js/2.3.6/require.min.js\"\n",
       "        ></script>\n",
       "    \n",
       "        <script>\n",
       "        function midiPlayerDiv623_play() {\n",
       "            const rq = require.config({\n",
       "                paths: {\n",
       "                    'music21': 'https://cuthbertLab.github.io/music21j/releases/music21.debug',\n",
       "                }\n",
       "            });\n",
       "            rq(['music21'], function(music21) {\n",
       "                mp = new music21.miditools.MidiPlayer();\n",
       "                mp.addPlayer(\"#midiPlayerDiv623\");\n",
       "                mp.base64Load(\"data:audio/midi;base64,TVRoZAAAAAYAAQACJ2BNVHJrAAAAFAD/UQMHoSAA/1gEBAIYCM5g/y8ATVRyawAAAHUA/wMAAOAAQM5gkEBauwiAQAAAkDxak1iAPAAAkDxagewggDwAAJBGWpNYgEYAAJA8Ws5ggDwAAJBGWoGdQIBGAACQQ1qnMIBDAACQPFrOYIA8AACQPFqCuwCAPAAAkDxagewggDwAAJBDWpNYgEMAzmD/LwA=\");\n",
       "            });\n",
       "        }\n",
       "        if (typeof require === 'undefined') {\n",
       "            setTimeout(midiPlayerDiv623_play, 2000);\n",
       "        } else {\n",
       "            midiPlayerDiv623_play();\n",
       "        }\n",
       "        </script>"
      ],
      "text/plain": [
       "<IPython.core.display.HTML object>"
      ]
     },
     "metadata": {},
     "output_type": "display_data"
    }
   ],
   "source": [
    "melody.show('midi')"
   ]
  },
  {
   "cell_type": "code",
   "execution_count": 12,
   "metadata": {},
   "outputs": [
    {
     "data": {
      "text/plain": [
       "'random_with_chords.mid'"
      ]
     },
     "execution_count": 12,
     "metadata": {},
     "output_type": "execute_result"
    }
   ],
   "source": [
    "melody.write('midi', fp='random_with_chords.mid')"
   ]
  },
  {
   "cell_type": "code",
   "execution_count": null,
   "metadata": {},
   "outputs": [],
   "source": []
  }
 ],
 "metadata": {
  "kernelspec": {
   "display_name": "projet-env",
   "language": "python",
   "name": "python3"
  },
  "language_info": {
   "codemirror_mode": {
    "name": "ipython",
    "version": 3
   },
   "file_extension": ".py",
   "mimetype": "text/x-python",
   "name": "python",
   "nbconvert_exporter": "python",
   "pygments_lexer": "ipython3",
   "version": "3.12.3"
  }
 },
 "nbformat": 4,
 "nbformat_minor": 2
}
